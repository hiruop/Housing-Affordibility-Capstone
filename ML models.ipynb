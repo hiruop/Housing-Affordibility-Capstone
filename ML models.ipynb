{
 "cells": [
  {
   "cell_type": "code",
   "execution_count": 2,
   "id": "02ab4c79",
   "metadata": {},
   "outputs": [],
   "source": [
    "import pandas as pd\n",
    "import numpy as np\n",
    "import matplotlib.pyplot as plt\n",
    "from sklearn.linear_model import LinearRegression\n",
    "from sklearn.tree import DecisionTreeRegressor\n",
    "from sklearn.ensemble import RandomForestRegressor\n",
    "from sklearn.svm import SVR\n",
    "from sklearn.model_selection import train_test_split\n",
    "from sklearn.metrics import mean_squared_error, r2_score, mean_absolute_error"
   ]
  },
  {
   "cell_type": "code",
   "execution_count": 3,
   "id": "9f804687",
   "metadata": {},
   "outputs": [],
   "source": [
    "data = pd.read_csv('C:/Users/Hiren/Desktop/ST.Clair/sem4/402-Capstone/housing-affordability-in-canada/Mortage and Interest rates csv/outliers.csv', parse_dates=['Date'])"
   ]
  },
  {
   "cell_type": "markdown",
   "id": "2ae9a892",
   "metadata": {},
   "source": [
    "### Feature selection"
   ]
  },
  {
   "cell_type": "code",
   "execution_count": 4,
   "id": "74574b33",
   "metadata": {},
   "outputs": [],
   "source": [
    "# Independent Variables\n",
    "X = data[['Interest Rate', 'HPI_change']]\n",
    "y = data['Mortgage Rate']\n",
    "X = np.array(X)\n",
    "y = np.array(y)"
   ]
  },
  {
   "cell_type": "markdown",
   "id": "a62da75b",
   "metadata": {},
   "source": [
    "### Split data into test and train"
   ]
  },
  {
   "cell_type": "code",
   "execution_count": 5,
   "id": "d234fd03",
   "metadata": {},
   "outputs": [],
   "source": [
    "from sklearn.model_selection import train_test_split\n",
    "# Let us split our dataset into test and train groups with  8:2 ratio.\n",
    "X_train, X_test, y_train, y_test = train_test_split(X, y, \n",
    "                                                    test_size = 0.2,\n",
    "                                                    random_state = 42)"
   ]
  },
  {
   "cell_type": "code",
   "execution_count": 6,
   "id": "d245448d",
   "metadata": {},
   "outputs": [],
   "source": [
    "from sklearn.linear_model import LinearRegression\n",
    "from sklearn.neural_network import MLPRegressor\n",
    "from sklearn.ensemble import GradientBoostingRegressor\n",
    "from sklearn.model_selection import train_test_split\n",
    "from sklearn.metrics import r2_score"
   ]
  },
  {
   "cell_type": "markdown",
   "id": "717cb9de",
   "metadata": {},
   "source": [
    "## Linear Regression"
   ]
  },
  {
   "cell_type": "code",
   "execution_count": 7,
   "id": "4bd9b149",
   "metadata": {},
   "outputs": [
    {
     "data": {
      "text/html": [
       "<style>#sk-container-id-1 {color: black;background-color: white;}#sk-container-id-1 pre{padding: 0;}#sk-container-id-1 div.sk-toggleable {background-color: white;}#sk-container-id-1 label.sk-toggleable__label {cursor: pointer;display: block;width: 100%;margin-bottom: 0;padding: 0.3em;box-sizing: border-box;text-align: center;}#sk-container-id-1 label.sk-toggleable__label-arrow:before {content: \"▸\";float: left;margin-right: 0.25em;color: #696969;}#sk-container-id-1 label.sk-toggleable__label-arrow:hover:before {color: black;}#sk-container-id-1 div.sk-estimator:hover label.sk-toggleable__label-arrow:before {color: black;}#sk-container-id-1 div.sk-toggleable__content {max-height: 0;max-width: 0;overflow: hidden;text-align: left;background-color: #f0f8ff;}#sk-container-id-1 div.sk-toggleable__content pre {margin: 0.2em;color: black;border-radius: 0.25em;background-color: #f0f8ff;}#sk-container-id-1 input.sk-toggleable__control:checked~div.sk-toggleable__content {max-height: 200px;max-width: 100%;overflow: auto;}#sk-container-id-1 input.sk-toggleable__control:checked~label.sk-toggleable__label-arrow:before {content: \"▾\";}#sk-container-id-1 div.sk-estimator input.sk-toggleable__control:checked~label.sk-toggleable__label {background-color: #d4ebff;}#sk-container-id-1 div.sk-label input.sk-toggleable__control:checked~label.sk-toggleable__label {background-color: #d4ebff;}#sk-container-id-1 input.sk-hidden--visually {border: 0;clip: rect(1px 1px 1px 1px);clip: rect(1px, 1px, 1px, 1px);height: 1px;margin: -1px;overflow: hidden;padding: 0;position: absolute;width: 1px;}#sk-container-id-1 div.sk-estimator {font-family: monospace;background-color: #f0f8ff;border: 1px dotted black;border-radius: 0.25em;box-sizing: border-box;margin-bottom: 0.5em;}#sk-container-id-1 div.sk-estimator:hover {background-color: #d4ebff;}#sk-container-id-1 div.sk-parallel-item::after {content: \"\";width: 100%;border-bottom: 1px solid gray;flex-grow: 1;}#sk-container-id-1 div.sk-label:hover label.sk-toggleable__label {background-color: #d4ebff;}#sk-container-id-1 div.sk-serial::before {content: \"\";position: absolute;border-left: 1px solid gray;box-sizing: border-box;top: 0;bottom: 0;left: 50%;z-index: 0;}#sk-container-id-1 div.sk-serial {display: flex;flex-direction: column;align-items: center;background-color: white;padding-right: 0.2em;padding-left: 0.2em;position: relative;}#sk-container-id-1 div.sk-item {position: relative;z-index: 1;}#sk-container-id-1 div.sk-parallel {display: flex;align-items: stretch;justify-content: center;background-color: white;position: relative;}#sk-container-id-1 div.sk-item::before, #sk-container-id-1 div.sk-parallel-item::before {content: \"\";position: absolute;border-left: 1px solid gray;box-sizing: border-box;top: 0;bottom: 0;left: 50%;z-index: -1;}#sk-container-id-1 div.sk-parallel-item {display: flex;flex-direction: column;z-index: 1;position: relative;background-color: white;}#sk-container-id-1 div.sk-parallel-item:first-child::after {align-self: flex-end;width: 50%;}#sk-container-id-1 div.sk-parallel-item:last-child::after {align-self: flex-start;width: 50%;}#sk-container-id-1 div.sk-parallel-item:only-child::after {width: 0;}#sk-container-id-1 div.sk-dashed-wrapped {border: 1px dashed gray;margin: 0 0.4em 0.5em 0.4em;box-sizing: border-box;padding-bottom: 0.4em;background-color: white;}#sk-container-id-1 div.sk-label label {font-family: monospace;font-weight: bold;display: inline-block;line-height: 1.2em;}#sk-container-id-1 div.sk-label-container {text-align: center;}#sk-container-id-1 div.sk-container {/* jupyter's `normalize.less` sets `[hidden] { display: none; }` but bootstrap.min.css set `[hidden] { display: none !important; }` so we also need the `!important` here to be able to override the default hidden behavior on the sphinx rendered scikit-learn.org. See: https://github.com/scikit-learn/scikit-learn/issues/21755 */display: inline-block !important;position: relative;}#sk-container-id-1 div.sk-text-repr-fallback {display: none;}</style><div id=\"sk-container-id-1\" class=\"sk-top-container\"><div class=\"sk-text-repr-fallback\"><pre>LinearRegression()</pre><b>In a Jupyter environment, please rerun this cell to show the HTML representation or trust the notebook. <br />On GitHub, the HTML representation is unable to render, please try loading this page with nbviewer.org.</b></div><div class=\"sk-container\" hidden><div class=\"sk-item\"><div class=\"sk-estimator sk-toggleable\"><input class=\"sk-toggleable__control sk-hidden--visually\" id=\"sk-estimator-id-1\" type=\"checkbox\" checked><label for=\"sk-estimator-id-1\" class=\"sk-toggleable__label sk-toggleable__label-arrow\">LinearRegression</label><div class=\"sk-toggleable__content\"><pre>LinearRegression()</pre></div></div></div></div></div>"
      ],
      "text/plain": [
       "LinearRegression()"
      ]
     },
     "execution_count": 7,
     "metadata": {},
     "output_type": "execute_result"
    }
   ],
   "source": [
    "# create linear regression model\n",
    "lr_model = LinearRegression()\n",
    "lr_model.fit(X_train, y_train)"
   ]
  },
  {
   "cell_type": "code",
   "execution_count": 8,
   "id": "735b3e19",
   "metadata": {},
   "outputs": [],
   "source": [
    "# make predictions on test data using all five models\n",
    "lr_pred = lr_model.predict(X_test)"
   ]
  },
  {
   "cell_type": "code",
   "execution_count": 9,
   "id": "c00bbd24",
   "metadata": {},
   "outputs": [],
   "source": [
    "lr_mse = mean_squared_error(y_test, lr_pred)\n",
    "lr_rmse = np.sqrt(mean_squared_error(y_test, lr_pred))\n",
    "lr_r2 = r2_score(y_test, lr_pred)\n",
    "lr_mae = mean_absolute_error(y_test, lr_pred)"
   ]
  },
  {
   "cell_type": "code",
   "execution_count": 10,
   "id": "891baf3d",
   "metadata": {},
   "outputs": [
    {
     "name": "stdout",
     "output_type": "stream",
     "text": [
      "Linear Regression MSE:  2.280439918239396\n",
      "Linear Regression RMSE: 1.5101125515137592\n",
      "Linear Regression R2 Score:  0.9032226894044304\n",
      "Linear Regression MAE:  1.2945273692122206\n"
     ]
    }
   ],
   "source": [
    "# print model performance metrics\n",
    "print('Linear Regression MSE: ', lr_mse)\n",
    "print('Linear Regression RMSE:', lr_rmse)\n",
    "print('Linear Regression R2 Score: ', lr_r2)\n",
    "print('Linear Regression MAE: ', lr_mae)"
   ]
  },
  {
   "cell_type": "markdown",
   "id": "f618c36d",
   "metadata": {},
   "source": [
    "## Gradient Boosting"
   ]
  },
  {
   "cell_type": "code",
   "execution_count": 11,
   "id": "8def0824",
   "metadata": {},
   "outputs": [
    {
     "data": {
      "text/html": [
       "<style>#sk-container-id-2 {color: black;background-color: white;}#sk-container-id-2 pre{padding: 0;}#sk-container-id-2 div.sk-toggleable {background-color: white;}#sk-container-id-2 label.sk-toggleable__label {cursor: pointer;display: block;width: 100%;margin-bottom: 0;padding: 0.3em;box-sizing: border-box;text-align: center;}#sk-container-id-2 label.sk-toggleable__label-arrow:before {content: \"▸\";float: left;margin-right: 0.25em;color: #696969;}#sk-container-id-2 label.sk-toggleable__label-arrow:hover:before {color: black;}#sk-container-id-2 div.sk-estimator:hover label.sk-toggleable__label-arrow:before {color: black;}#sk-container-id-2 div.sk-toggleable__content {max-height: 0;max-width: 0;overflow: hidden;text-align: left;background-color: #f0f8ff;}#sk-container-id-2 div.sk-toggleable__content pre {margin: 0.2em;color: black;border-radius: 0.25em;background-color: #f0f8ff;}#sk-container-id-2 input.sk-toggleable__control:checked~div.sk-toggleable__content {max-height: 200px;max-width: 100%;overflow: auto;}#sk-container-id-2 input.sk-toggleable__control:checked~label.sk-toggleable__label-arrow:before {content: \"▾\";}#sk-container-id-2 div.sk-estimator input.sk-toggleable__control:checked~label.sk-toggleable__label {background-color: #d4ebff;}#sk-container-id-2 div.sk-label input.sk-toggleable__control:checked~label.sk-toggleable__label {background-color: #d4ebff;}#sk-container-id-2 input.sk-hidden--visually {border: 0;clip: rect(1px 1px 1px 1px);clip: rect(1px, 1px, 1px, 1px);height: 1px;margin: -1px;overflow: hidden;padding: 0;position: absolute;width: 1px;}#sk-container-id-2 div.sk-estimator {font-family: monospace;background-color: #f0f8ff;border: 1px dotted black;border-radius: 0.25em;box-sizing: border-box;margin-bottom: 0.5em;}#sk-container-id-2 div.sk-estimator:hover {background-color: #d4ebff;}#sk-container-id-2 div.sk-parallel-item::after {content: \"\";width: 100%;border-bottom: 1px solid gray;flex-grow: 1;}#sk-container-id-2 div.sk-label:hover label.sk-toggleable__label {background-color: #d4ebff;}#sk-container-id-2 div.sk-serial::before {content: \"\";position: absolute;border-left: 1px solid gray;box-sizing: border-box;top: 0;bottom: 0;left: 50%;z-index: 0;}#sk-container-id-2 div.sk-serial {display: flex;flex-direction: column;align-items: center;background-color: white;padding-right: 0.2em;padding-left: 0.2em;position: relative;}#sk-container-id-2 div.sk-item {position: relative;z-index: 1;}#sk-container-id-2 div.sk-parallel {display: flex;align-items: stretch;justify-content: center;background-color: white;position: relative;}#sk-container-id-2 div.sk-item::before, #sk-container-id-2 div.sk-parallel-item::before {content: \"\";position: absolute;border-left: 1px solid gray;box-sizing: border-box;top: 0;bottom: 0;left: 50%;z-index: -1;}#sk-container-id-2 div.sk-parallel-item {display: flex;flex-direction: column;z-index: 1;position: relative;background-color: white;}#sk-container-id-2 div.sk-parallel-item:first-child::after {align-self: flex-end;width: 50%;}#sk-container-id-2 div.sk-parallel-item:last-child::after {align-self: flex-start;width: 50%;}#sk-container-id-2 div.sk-parallel-item:only-child::after {width: 0;}#sk-container-id-2 div.sk-dashed-wrapped {border: 1px dashed gray;margin: 0 0.4em 0.5em 0.4em;box-sizing: border-box;padding-bottom: 0.4em;background-color: white;}#sk-container-id-2 div.sk-label label {font-family: monospace;font-weight: bold;display: inline-block;line-height: 1.2em;}#sk-container-id-2 div.sk-label-container {text-align: center;}#sk-container-id-2 div.sk-container {/* jupyter's `normalize.less` sets `[hidden] { display: none; }` but bootstrap.min.css set `[hidden] { display: none !important; }` so we also need the `!important` here to be able to override the default hidden behavior on the sphinx rendered scikit-learn.org. See: https://github.com/scikit-learn/scikit-learn/issues/21755 */display: inline-block !important;position: relative;}#sk-container-id-2 div.sk-text-repr-fallback {display: none;}</style><div id=\"sk-container-id-2\" class=\"sk-top-container\"><div class=\"sk-text-repr-fallback\"><pre>GradientBoostingRegressor()</pre><b>In a Jupyter environment, please rerun this cell to show the HTML representation or trust the notebook. <br />On GitHub, the HTML representation is unable to render, please try loading this page with nbviewer.org.</b></div><div class=\"sk-container\" hidden><div class=\"sk-item\"><div class=\"sk-estimator sk-toggleable\"><input class=\"sk-toggleable__control sk-hidden--visually\" id=\"sk-estimator-id-2\" type=\"checkbox\" checked><label for=\"sk-estimator-id-2\" class=\"sk-toggleable__label sk-toggleable__label-arrow\">GradientBoostingRegressor</label><div class=\"sk-toggleable__content\"><pre>GradientBoostingRegressor()</pre></div></div></div></div></div>"
      ],
      "text/plain": [
       "GradientBoostingRegressor()"
      ]
     },
     "execution_count": 11,
     "metadata": {},
     "output_type": "execute_result"
    }
   ],
   "source": [
    "gb_model = GradientBoostingRegressor()\n",
    "gb_model.fit(X_train, y_train)"
   ]
  },
  {
   "cell_type": "code",
   "execution_count": 12,
   "id": "5c5300d3",
   "metadata": {},
   "outputs": [],
   "source": [
    "gb_pred = gb_model.predict(X_test)"
   ]
  },
  {
   "cell_type": "code",
   "execution_count": 13,
   "id": "482a9560",
   "metadata": {},
   "outputs": [],
   "source": [
    "# evaluate model performance using metrics\n",
    "gb_mse = mean_squared_error(y_test, gb_pred)\n",
    "gb_rmse = np.sqrt(mean_squared_error(y_test, gb_pred))\n",
    "gb_r2 = r2_score(y_test, gb_pred)\n",
    "gb_mae = mean_absolute_error(y_test, gb_pred)"
   ]
  },
  {
   "cell_type": "code",
   "execution_count": 14,
   "id": "efb9fd6b",
   "metadata": {},
   "outputs": [
    {
     "name": "stdout",
     "output_type": "stream",
     "text": [
      "Gradient Boosting MSE:  0.32465173446731893\n",
      "Gradient Boosting RMSE: 0.5697821815986517\n",
      "Gradient Boosting R2 Score:  0.9862224295011504\n",
      "Gradient Boosting MAE:  0.3628501483877858\n"
     ]
    }
   ],
   "source": [
    "# print model performance metrics\n",
    "print('Gradient Boosting MSE: ', gb_mse)\n",
    "print('Gradient Boosting RMSE:', gb_rmse)\n",
    "print('Gradient Boosting R2 Score: ', gb_r2)\n",
    "print('Gradient Boosting MAE: ', gb_mae)"
   ]
  },
  {
   "cell_type": "markdown",
   "id": "ba4b4a8b",
   "metadata": {},
   "source": [
    "## Decision Tree"
   ]
  },
  {
   "cell_type": "code",
   "execution_count": 15,
   "id": "faab7b52",
   "metadata": {},
   "outputs": [
    {
     "data": {
      "text/html": [
       "<style>#sk-container-id-3 {color: black;background-color: white;}#sk-container-id-3 pre{padding: 0;}#sk-container-id-3 div.sk-toggleable {background-color: white;}#sk-container-id-3 label.sk-toggleable__label {cursor: pointer;display: block;width: 100%;margin-bottom: 0;padding: 0.3em;box-sizing: border-box;text-align: center;}#sk-container-id-3 label.sk-toggleable__label-arrow:before {content: \"▸\";float: left;margin-right: 0.25em;color: #696969;}#sk-container-id-3 label.sk-toggleable__label-arrow:hover:before {color: black;}#sk-container-id-3 div.sk-estimator:hover label.sk-toggleable__label-arrow:before {color: black;}#sk-container-id-3 div.sk-toggleable__content {max-height: 0;max-width: 0;overflow: hidden;text-align: left;background-color: #f0f8ff;}#sk-container-id-3 div.sk-toggleable__content pre {margin: 0.2em;color: black;border-radius: 0.25em;background-color: #f0f8ff;}#sk-container-id-3 input.sk-toggleable__control:checked~div.sk-toggleable__content {max-height: 200px;max-width: 100%;overflow: auto;}#sk-container-id-3 input.sk-toggleable__control:checked~label.sk-toggleable__label-arrow:before {content: \"▾\";}#sk-container-id-3 div.sk-estimator input.sk-toggleable__control:checked~label.sk-toggleable__label {background-color: #d4ebff;}#sk-container-id-3 div.sk-label input.sk-toggleable__control:checked~label.sk-toggleable__label {background-color: #d4ebff;}#sk-container-id-3 input.sk-hidden--visually {border: 0;clip: rect(1px 1px 1px 1px);clip: rect(1px, 1px, 1px, 1px);height: 1px;margin: -1px;overflow: hidden;padding: 0;position: absolute;width: 1px;}#sk-container-id-3 div.sk-estimator {font-family: monospace;background-color: #f0f8ff;border: 1px dotted black;border-radius: 0.25em;box-sizing: border-box;margin-bottom: 0.5em;}#sk-container-id-3 div.sk-estimator:hover {background-color: #d4ebff;}#sk-container-id-3 div.sk-parallel-item::after {content: \"\";width: 100%;border-bottom: 1px solid gray;flex-grow: 1;}#sk-container-id-3 div.sk-label:hover label.sk-toggleable__label {background-color: #d4ebff;}#sk-container-id-3 div.sk-serial::before {content: \"\";position: absolute;border-left: 1px solid gray;box-sizing: border-box;top: 0;bottom: 0;left: 50%;z-index: 0;}#sk-container-id-3 div.sk-serial {display: flex;flex-direction: column;align-items: center;background-color: white;padding-right: 0.2em;padding-left: 0.2em;position: relative;}#sk-container-id-3 div.sk-item {position: relative;z-index: 1;}#sk-container-id-3 div.sk-parallel {display: flex;align-items: stretch;justify-content: center;background-color: white;position: relative;}#sk-container-id-3 div.sk-item::before, #sk-container-id-3 div.sk-parallel-item::before {content: \"\";position: absolute;border-left: 1px solid gray;box-sizing: border-box;top: 0;bottom: 0;left: 50%;z-index: -1;}#sk-container-id-3 div.sk-parallel-item {display: flex;flex-direction: column;z-index: 1;position: relative;background-color: white;}#sk-container-id-3 div.sk-parallel-item:first-child::after {align-self: flex-end;width: 50%;}#sk-container-id-3 div.sk-parallel-item:last-child::after {align-self: flex-start;width: 50%;}#sk-container-id-3 div.sk-parallel-item:only-child::after {width: 0;}#sk-container-id-3 div.sk-dashed-wrapped {border: 1px dashed gray;margin: 0 0.4em 0.5em 0.4em;box-sizing: border-box;padding-bottom: 0.4em;background-color: white;}#sk-container-id-3 div.sk-label label {font-family: monospace;font-weight: bold;display: inline-block;line-height: 1.2em;}#sk-container-id-3 div.sk-label-container {text-align: center;}#sk-container-id-3 div.sk-container {/* jupyter's `normalize.less` sets `[hidden] { display: none; }` but bootstrap.min.css set `[hidden] { display: none !important; }` so we also need the `!important` here to be able to override the default hidden behavior on the sphinx rendered scikit-learn.org. See: https://github.com/scikit-learn/scikit-learn/issues/21755 */display: inline-block !important;position: relative;}#sk-container-id-3 div.sk-text-repr-fallback {display: none;}</style><div id=\"sk-container-id-3\" class=\"sk-top-container\"><div class=\"sk-text-repr-fallback\"><pre>DecisionTreeRegressor()</pre><b>In a Jupyter environment, please rerun this cell to show the HTML representation or trust the notebook. <br />On GitHub, the HTML representation is unable to render, please try loading this page with nbviewer.org.</b></div><div class=\"sk-container\" hidden><div class=\"sk-item\"><div class=\"sk-estimator sk-toggleable\"><input class=\"sk-toggleable__control sk-hidden--visually\" id=\"sk-estimator-id-3\" type=\"checkbox\" checked><label for=\"sk-estimator-id-3\" class=\"sk-toggleable__label sk-toggleable__label-arrow\">DecisionTreeRegressor</label><div class=\"sk-toggleable__content\"><pre>DecisionTreeRegressor()</pre></div></div></div></div></div>"
      ],
      "text/plain": [
       "DecisionTreeRegressor()"
      ]
     },
     "execution_count": 15,
     "metadata": {},
     "output_type": "execute_result"
    }
   ],
   "source": [
    "# create decision tree regression model\n",
    "dt_model = DecisionTreeRegressor()\n",
    "dt_model.fit(X_train, y_train)"
   ]
  },
  {
   "cell_type": "code",
   "execution_count": 16,
   "id": "44efb02e",
   "metadata": {},
   "outputs": [],
   "source": [
    "dt_pred = dt_model.predict(X_test)"
   ]
  },
  {
   "cell_type": "code",
   "execution_count": 17,
   "id": "43d8810c",
   "metadata": {},
   "outputs": [],
   "source": [
    "dt_mse = mean_squared_error(y_test, dt_pred)\n",
    "dt_rmse = np.sqrt(mean_squared_error(y_test, dt_pred))\n",
    "dt_r2 = r2_score(y_test, dt_pred)\n",
    "dt_mae = mean_absolute_error(y_test, dt_pred)"
   ]
  },
  {
   "cell_type": "code",
   "execution_count": 18,
   "id": "06360dd4",
   "metadata": {},
   "outputs": [
    {
     "name": "stdout",
     "output_type": "stream",
     "text": [
      "Decision Tree MSE:  0.6114254045834852\n",
      "Decision Tree RMSE: 0.7819369569111599\n",
      "Decision Tree R2 Score:  0.9740523283195809\n",
      "Decision Tree MAE:  0.39635214710884353\n"
     ]
    }
   ],
   "source": [
    "print('Decision Tree MSE: ', dt_mse)\n",
    "print('Decision Tree RMSE:', dt_rmse)\n",
    "print('Decision Tree R2 Score: ', dt_r2)\n",
    "print('Decision Tree MAE: ', dt_mae)"
   ]
  },
  {
   "cell_type": "markdown",
   "id": "4012a94f",
   "metadata": {},
   "source": [
    "## Random Forest"
   ]
  },
  {
   "cell_type": "code",
   "execution_count": 19,
   "id": "52556f1b",
   "metadata": {},
   "outputs": [
    {
     "data": {
      "text/html": [
       "<style>#sk-container-id-4 {color: black;background-color: white;}#sk-container-id-4 pre{padding: 0;}#sk-container-id-4 div.sk-toggleable {background-color: white;}#sk-container-id-4 label.sk-toggleable__label {cursor: pointer;display: block;width: 100%;margin-bottom: 0;padding: 0.3em;box-sizing: border-box;text-align: center;}#sk-container-id-4 label.sk-toggleable__label-arrow:before {content: \"▸\";float: left;margin-right: 0.25em;color: #696969;}#sk-container-id-4 label.sk-toggleable__label-arrow:hover:before {color: black;}#sk-container-id-4 div.sk-estimator:hover label.sk-toggleable__label-arrow:before {color: black;}#sk-container-id-4 div.sk-toggleable__content {max-height: 0;max-width: 0;overflow: hidden;text-align: left;background-color: #f0f8ff;}#sk-container-id-4 div.sk-toggleable__content pre {margin: 0.2em;color: black;border-radius: 0.25em;background-color: #f0f8ff;}#sk-container-id-4 input.sk-toggleable__control:checked~div.sk-toggleable__content {max-height: 200px;max-width: 100%;overflow: auto;}#sk-container-id-4 input.sk-toggleable__control:checked~label.sk-toggleable__label-arrow:before {content: \"▾\";}#sk-container-id-4 div.sk-estimator input.sk-toggleable__control:checked~label.sk-toggleable__label {background-color: #d4ebff;}#sk-container-id-4 div.sk-label input.sk-toggleable__control:checked~label.sk-toggleable__label {background-color: #d4ebff;}#sk-container-id-4 input.sk-hidden--visually {border: 0;clip: rect(1px 1px 1px 1px);clip: rect(1px, 1px, 1px, 1px);height: 1px;margin: -1px;overflow: hidden;padding: 0;position: absolute;width: 1px;}#sk-container-id-4 div.sk-estimator {font-family: monospace;background-color: #f0f8ff;border: 1px dotted black;border-radius: 0.25em;box-sizing: border-box;margin-bottom: 0.5em;}#sk-container-id-4 div.sk-estimator:hover {background-color: #d4ebff;}#sk-container-id-4 div.sk-parallel-item::after {content: \"\";width: 100%;border-bottom: 1px solid gray;flex-grow: 1;}#sk-container-id-4 div.sk-label:hover label.sk-toggleable__label {background-color: #d4ebff;}#sk-container-id-4 div.sk-serial::before {content: \"\";position: absolute;border-left: 1px solid gray;box-sizing: border-box;top: 0;bottom: 0;left: 50%;z-index: 0;}#sk-container-id-4 div.sk-serial {display: flex;flex-direction: column;align-items: center;background-color: white;padding-right: 0.2em;padding-left: 0.2em;position: relative;}#sk-container-id-4 div.sk-item {position: relative;z-index: 1;}#sk-container-id-4 div.sk-parallel {display: flex;align-items: stretch;justify-content: center;background-color: white;position: relative;}#sk-container-id-4 div.sk-item::before, #sk-container-id-4 div.sk-parallel-item::before {content: \"\";position: absolute;border-left: 1px solid gray;box-sizing: border-box;top: 0;bottom: 0;left: 50%;z-index: -1;}#sk-container-id-4 div.sk-parallel-item {display: flex;flex-direction: column;z-index: 1;position: relative;background-color: white;}#sk-container-id-4 div.sk-parallel-item:first-child::after {align-self: flex-end;width: 50%;}#sk-container-id-4 div.sk-parallel-item:last-child::after {align-self: flex-start;width: 50%;}#sk-container-id-4 div.sk-parallel-item:only-child::after {width: 0;}#sk-container-id-4 div.sk-dashed-wrapped {border: 1px dashed gray;margin: 0 0.4em 0.5em 0.4em;box-sizing: border-box;padding-bottom: 0.4em;background-color: white;}#sk-container-id-4 div.sk-label label {font-family: monospace;font-weight: bold;display: inline-block;line-height: 1.2em;}#sk-container-id-4 div.sk-label-container {text-align: center;}#sk-container-id-4 div.sk-container {/* jupyter's `normalize.less` sets `[hidden] { display: none; }` but bootstrap.min.css set `[hidden] { display: none !important; }` so we also need the `!important` here to be able to override the default hidden behavior on the sphinx rendered scikit-learn.org. See: https://github.com/scikit-learn/scikit-learn/issues/21755 */display: inline-block !important;position: relative;}#sk-container-id-4 div.sk-text-repr-fallback {display: none;}</style><div id=\"sk-container-id-4\" class=\"sk-top-container\"><div class=\"sk-text-repr-fallback\"><pre>RandomForestRegressor()</pre><b>In a Jupyter environment, please rerun this cell to show the HTML representation or trust the notebook. <br />On GitHub, the HTML representation is unable to render, please try loading this page with nbviewer.org.</b></div><div class=\"sk-container\" hidden><div class=\"sk-item\"><div class=\"sk-estimator sk-toggleable\"><input class=\"sk-toggleable__control sk-hidden--visually\" id=\"sk-estimator-id-4\" type=\"checkbox\" checked><label for=\"sk-estimator-id-4\" class=\"sk-toggleable__label sk-toggleable__label-arrow\">RandomForestRegressor</label><div class=\"sk-toggleable__content\"><pre>RandomForestRegressor()</pre></div></div></div></div></div>"
      ],
      "text/plain": [
       "RandomForestRegressor()"
      ]
     },
     "execution_count": 19,
     "metadata": {},
     "output_type": "execute_result"
    }
   ],
   "source": [
    "# create random forest regression model\n",
    "rf_model = RandomForestRegressor()\n",
    "rf_model.fit(X_train, y_train)"
   ]
  },
  {
   "cell_type": "code",
   "execution_count": 20,
   "id": "3978033e",
   "metadata": {},
   "outputs": [],
   "source": [
    "rf_pred = rf_model.predict(X_test)"
   ]
  },
  {
   "cell_type": "code",
   "execution_count": 21,
   "id": "aceee347",
   "metadata": {},
   "outputs": [],
   "source": [
    "rf_mse = mean_squared_error(y_test, rf_pred)\n",
    "rf_rmse = np.sqrt(mean_squared_error(y_test, rf_pred))\n",
    "rf_r2 = r2_score(y_test, rf_pred)\n",
    "rf_mae = mean_absolute_error(y_test, rf_pred)"
   ]
  },
  {
   "cell_type": "code",
   "execution_count": 22,
   "id": "76c444e1",
   "metadata": {},
   "outputs": [
    {
     "name": "stdout",
     "output_type": "stream",
     "text": [
      "Random Forest MSE:  0.36069877955922724\n",
      "Random Forest RMSE: 0.6005820339963786\n",
      "Random Forest R2 Score:  0.9846926649802743\n",
      "Random Forest MAE:  0.3397622733987243\n"
     ]
    }
   ],
   "source": [
    "print('Random Forest MSE: ', rf_mse)\n",
    "print('Random Forest RMSE:', rf_rmse)\n",
    "print('Random Forest R2 Score: ', rf_r2)\n",
    "print('Random Forest MAE: ', rf_mae)"
   ]
  },
  {
   "cell_type": "markdown",
   "id": "8ad1922c",
   "metadata": {},
   "source": [
    "## Artificial Neural Network(ANN)"
   ]
  },
  {
   "cell_type": "code",
   "execution_count": 23,
   "id": "6dc25395",
   "metadata": {},
   "outputs": [
    {
     "name": "stderr",
     "output_type": "stream",
     "text": [
      "e:\\Anaconda\\lib\\site-packages\\sklearn\\neural_network\\_multilayer_perceptron.py:702: ConvergenceWarning: Stochastic Optimizer: Maximum iterations (200) reached and the optimization hasn't converged yet.\n",
      "  warnings.warn(\n"
     ]
    },
    {
     "data": {
      "text/html": [
       "<style>#sk-container-id-5 {color: black;background-color: white;}#sk-container-id-5 pre{padding: 0;}#sk-container-id-5 div.sk-toggleable {background-color: white;}#sk-container-id-5 label.sk-toggleable__label {cursor: pointer;display: block;width: 100%;margin-bottom: 0;padding: 0.3em;box-sizing: border-box;text-align: center;}#sk-container-id-5 label.sk-toggleable__label-arrow:before {content: \"▸\";float: left;margin-right: 0.25em;color: #696969;}#sk-container-id-5 label.sk-toggleable__label-arrow:hover:before {color: black;}#sk-container-id-5 div.sk-estimator:hover label.sk-toggleable__label-arrow:before {color: black;}#sk-container-id-5 div.sk-toggleable__content {max-height: 0;max-width: 0;overflow: hidden;text-align: left;background-color: #f0f8ff;}#sk-container-id-5 div.sk-toggleable__content pre {margin: 0.2em;color: black;border-radius: 0.25em;background-color: #f0f8ff;}#sk-container-id-5 input.sk-toggleable__control:checked~div.sk-toggleable__content {max-height: 200px;max-width: 100%;overflow: auto;}#sk-container-id-5 input.sk-toggleable__control:checked~label.sk-toggleable__label-arrow:before {content: \"▾\";}#sk-container-id-5 div.sk-estimator input.sk-toggleable__control:checked~label.sk-toggleable__label {background-color: #d4ebff;}#sk-container-id-5 div.sk-label input.sk-toggleable__control:checked~label.sk-toggleable__label {background-color: #d4ebff;}#sk-container-id-5 input.sk-hidden--visually {border: 0;clip: rect(1px 1px 1px 1px);clip: rect(1px, 1px, 1px, 1px);height: 1px;margin: -1px;overflow: hidden;padding: 0;position: absolute;width: 1px;}#sk-container-id-5 div.sk-estimator {font-family: monospace;background-color: #f0f8ff;border: 1px dotted black;border-radius: 0.25em;box-sizing: border-box;margin-bottom: 0.5em;}#sk-container-id-5 div.sk-estimator:hover {background-color: #d4ebff;}#sk-container-id-5 div.sk-parallel-item::after {content: \"\";width: 100%;border-bottom: 1px solid gray;flex-grow: 1;}#sk-container-id-5 div.sk-label:hover label.sk-toggleable__label {background-color: #d4ebff;}#sk-container-id-5 div.sk-serial::before {content: \"\";position: absolute;border-left: 1px solid gray;box-sizing: border-box;top: 0;bottom: 0;left: 50%;z-index: 0;}#sk-container-id-5 div.sk-serial {display: flex;flex-direction: column;align-items: center;background-color: white;padding-right: 0.2em;padding-left: 0.2em;position: relative;}#sk-container-id-5 div.sk-item {position: relative;z-index: 1;}#sk-container-id-5 div.sk-parallel {display: flex;align-items: stretch;justify-content: center;background-color: white;position: relative;}#sk-container-id-5 div.sk-item::before, #sk-container-id-5 div.sk-parallel-item::before {content: \"\";position: absolute;border-left: 1px solid gray;box-sizing: border-box;top: 0;bottom: 0;left: 50%;z-index: -1;}#sk-container-id-5 div.sk-parallel-item {display: flex;flex-direction: column;z-index: 1;position: relative;background-color: white;}#sk-container-id-5 div.sk-parallel-item:first-child::after {align-self: flex-end;width: 50%;}#sk-container-id-5 div.sk-parallel-item:last-child::after {align-self: flex-start;width: 50%;}#sk-container-id-5 div.sk-parallel-item:only-child::after {width: 0;}#sk-container-id-5 div.sk-dashed-wrapped {border: 1px dashed gray;margin: 0 0.4em 0.5em 0.4em;box-sizing: border-box;padding-bottom: 0.4em;background-color: white;}#sk-container-id-5 div.sk-label label {font-family: monospace;font-weight: bold;display: inline-block;line-height: 1.2em;}#sk-container-id-5 div.sk-label-container {text-align: center;}#sk-container-id-5 div.sk-container {/* jupyter's `normalize.less` sets `[hidden] { display: none; }` but bootstrap.min.css set `[hidden] { display: none !important; }` so we also need the `!important` here to be able to override the default hidden behavior on the sphinx rendered scikit-learn.org. See: https://github.com/scikit-learn/scikit-learn/issues/21755 */display: inline-block !important;position: relative;}#sk-container-id-5 div.sk-text-repr-fallback {display: none;}</style><div id=\"sk-container-id-5\" class=\"sk-top-container\"><div class=\"sk-text-repr-fallback\"><pre>MLPRegressor()</pre><b>In a Jupyter environment, please rerun this cell to show the HTML representation or trust the notebook. <br />On GitHub, the HTML representation is unable to render, please try loading this page with nbviewer.org.</b></div><div class=\"sk-container\" hidden><div class=\"sk-item\"><div class=\"sk-estimator sk-toggleable\"><input class=\"sk-toggleable__control sk-hidden--visually\" id=\"sk-estimator-id-5\" type=\"checkbox\" checked><label for=\"sk-estimator-id-5\" class=\"sk-toggleable__label sk-toggleable__label-arrow\">MLPRegressor</label><div class=\"sk-toggleable__content\"><pre>MLPRegressor()</pre></div></div></div></div></div>"
      ],
      "text/plain": [
       "MLPRegressor()"
      ]
     },
     "execution_count": 23,
     "metadata": {},
     "output_type": "execute_result"
    }
   ],
   "source": [
    "ann_model = MLPRegressor()\n",
    "ann_model.fit(X_train, y_train)"
   ]
  },
  {
   "cell_type": "code",
   "execution_count": 24,
   "id": "9cc68c87",
   "metadata": {},
   "outputs": [],
   "source": [
    "ann_pred = ann_model.predict(X_test)"
   ]
  },
  {
   "cell_type": "code",
   "execution_count": 25,
   "id": "709a3ef6",
   "metadata": {},
   "outputs": [],
   "source": [
    "# evaluate model performance using metrics\n",
    "ann_mse = mean_squared_error(y_test, ann_pred) \n",
    "ann_rmse = np.sqrt(mean_squared_error(y_test, ann_pred))\n",
    "ann_r2 = r2_score(y_test,ann_pred) \n",
    "ann_mae = mean_absolute_error(y_test,ann_pred)"
   ]
  },
  {
   "cell_type": "code",
   "execution_count": 26,
   "id": "3df546b3",
   "metadata": {},
   "outputs": [
    {
     "name": "stdout",
     "output_type": "stream",
     "text": [
      "ANN Regression MSE:  0.5029062045623676\n",
      "ANN Regression RMSE: 0.7091588006662313\n",
      "ANN Regression R2 Score:  0.978657666194097\n",
      "ANN Regression MAE:  0.4574655651230107\n"
     ]
    }
   ],
   "source": [
    "# print model performance metrics\n",
    "print('ANN Regression MSE: ', ann_mse)\n",
    "print('ANN Regression RMSE:', ann_rmse)\n",
    "print('ANN Regression R2 Score: ', ann_r2)\n",
    "print('ANN Regression MAE: ', ann_mae)"
   ]
  },
  {
   "cell_type": "code",
   "execution_count": 27,
   "id": "e623363d",
   "metadata": {},
   "outputs": [
    {
     "name": "stdout",
     "output_type": "stream",
     "text": [
      "               Model      RMSE       MAE        R2       MSE\n",
      "0  Linear Regression  1.510113  1.294527  0.903223  2.280440\n",
      "1  Gradient Boosting  0.569782  0.362850  0.986222  0.324652\n",
      "2      Decision Tree  0.781937  0.396352  0.974052  0.611425\n",
      "3      Random Forest  0.600582  0.339762  0.984693  0.360699\n",
      "4     ANN Regression  0.709159  0.457466  0.978658  0.502906\n"
     ]
    }
   ],
   "source": [
    "# create a pandas dataframe to display the metrics\n",
    "df = pd.DataFrame({'Model': ['Linear Regression', 'Gradient Boosting', 'Decision Tree', 'Random Forest', 'ANN Regression'],\n",
    "                   'RMSE': [lr_rmse, gb_rmse, dt_rmse, rf_rmse, ann_rmse],\n",
    "                   'MAE': [lr_mae,gb_mae, dt_mae, rf_mae, ann_mae],\n",
    "                   'R2': [lr_r2,gb_r2, dt_r2, rf_r2, ann_r2],\n",
    "                   'MSE': [lr_mse, gb_mse, dt_mse, rf_mse, ann_mse]})\n",
    "print(df)"
   ]
  },
  {
   "cell_type": "markdown",
   "id": "af70c691",
   "metadata": {},
   "source": [
    "#### Based on our KPI which is R2 score we determined that Gradient Boosting Regressor Model is the best model as it gives the the score close to 1 because in R2 the score is consider best if it is close to 1."
   ]
  },
  {
   "cell_type": "markdown",
   "id": "cc1f890e",
   "metadata": {},
   "source": [
    "## Using Hyperparameter tuning technique to find out the best model based on the parameters."
   ]
  },
  {
   "cell_type": "markdown",
   "id": "8a22a93c",
   "metadata": {},
   "source": [
    "## Hyperparameter tuning using GridSearchCV\n",
    "#### RandomizedSearchCV is a method for hyperparameter tuning that is similar to GridSearchCV, but instead of trying all possible combinations of hyperparameters, it samples a fixed number of combinations from a distribution of hyperparameters."
   ]
  },
  {
   "cell_type": "code",
   "execution_count": 28,
   "id": "2c336019",
   "metadata": {},
   "outputs": [
    {
     "name": "stdout",
     "output_type": "stream",
     "text": [
      "Fitting 5 folds for each of 100 candidates, totalling 500 fits\n",
      "Fitting 5 folds for each of 100 candidates, totalling 500 fits\n"
     ]
    },
    {
     "name": "stderr",
     "output_type": "stream",
     "text": [
      "e:\\Anaconda\\lib\\site-packages\\sklearn\\model_selection\\_search.py:306: UserWarning: The total space of parameters 2 is smaller than n_iter=100. Running 2 iterations. For exhaustive searches, use GridSearchCV.\n",
      "  warnings.warn(\n"
     ]
    },
    {
     "name": "stdout",
     "output_type": "stream",
     "text": [
      "Fitting 5 folds for each of 2 candidates, totalling 10 fits\n",
      "Fitting 5 folds for each of 100 candidates, totalling 500 fits\n"
     ]
    },
    {
     "name": "stderr",
     "output_type": "stream",
     "text": [
      "e:\\Anaconda\\lib\\site-packages\\sklearn\\model_selection\\_validation.py:378: FitFailedWarning: \n",
      "255 fits failed out of a total of 500.\n",
      "The score on these train-test partitions for these parameters will be set to nan.\n",
      "If these failures are not expected, you can try to debug them by setting error_score='raise'.\n",
      "\n",
      "Below are more details about the failures:\n",
      "--------------------------------------------------------------------------------\n",
      "255 fits failed with the following error:\n",
      "Traceback (most recent call last):\n",
      "  File \"e:\\Anaconda\\lib\\site-packages\\sklearn\\model_selection\\_validation.py\", line 686, in _fit_and_score\n",
      "    estimator.fit(X_train, y_train, **fit_params)\n",
      "  File \"e:\\Anaconda\\lib\\site-packages\\sklearn\\tree\\_classes.py\", line 1342, in fit\n",
      "    super().fit(\n",
      "  File \"e:\\Anaconda\\lib\\site-packages\\sklearn\\tree\\_classes.py\", line 265, in fit\n",
      "    check_scalar(\n",
      "  File \"e:\\Anaconda\\lib\\site-packages\\sklearn\\utils\\validation.py\", line 1480, in check_scalar\n",
      "    raise ValueError(\n",
      "ValueError: min_samples_split == 1, must be >= 2.\n",
      "\n",
      "  warnings.warn(some_fits_failed_message, FitFailedWarning)\n",
      "e:\\Anaconda\\lib\\site-packages\\sklearn\\model_selection\\_search.py:953: UserWarning: One or more of the test scores are non-finite: [0.97687696        nan 0.97687696        nan        nan        nan\n",
      "        nan 0.97687696        nan        nan 0.92799497 0.97687696\n",
      " 0.97687696        nan 0.97687696        nan        nan        nan\n",
      " 0.97687696 0.97687696        nan 0.97687696        nan        nan\n",
      "        nan        nan 0.97687696 0.97687696 0.97687696 0.97701632\n",
      " 0.92799497        nan 0.97752605        nan 0.97687696 0.97687696\n",
      " 0.97687696 0.92799497 0.97717715 0.97687696        nan 0.97687696\n",
      " 0.97687696 0.97687696 0.97687696 0.97687696 0.97687696        nan\n",
      "        nan        nan        nan 0.97687696 0.97687696        nan\n",
      "        nan        nan        nan 0.97701632 0.72393403 0.97752112\n",
      "        nan 0.97687696        nan        nan 0.97450868 0.97687696\n",
      " 0.97687696        nan 0.97752112        nan        nan 0.97687696\n",
      "        nan 0.97687696 0.97687696        nan        nan        nan\n",
      "        nan        nan        nan        nan        nan        nan\n",
      " 0.97687696        nan        nan 0.97687696 0.97687696        nan\n",
      "        nan        nan        nan        nan        nan 0.97687696\n",
      " 0.92799497 0.97687696 0.97717715 0.97687696]\n",
      "  warnings.warn(\n",
      "e:\\Anaconda\\lib\\site-packages\\sklearn\\model_selection\\_search.py:306: UserWarning: The total space of parameters 27 is smaller than n_iter=100. Running 27 iterations. For exhaustive searches, use GridSearchCV.\n",
      "  warnings.warn(\n"
     ]
    },
    {
     "name": "stdout",
     "output_type": "stream",
     "text": [
      "Fitting 5 folds for each of 27 candidates, totalling 135 fits\n",
      "Random Forest: Best Hyperparameters: {'max_depth': 9, 'n_estimators': 167} Score: 0.983778122262789\n",
      "Gradient Boosting: Best Hyperparameters: {'learning_rate': 0.01, 'max_depth': 3, 'n_estimators': 660} Score: 0.9822154569826955\n",
      "Linear Regression: Best Hyperparameters: {'fit_intercept': True} Score: 0.8993570436450469\n",
      "Decision Tree: Best Hyperparameters: {'max_depth': 7, 'min_samples_split': 25} Score: 0.9775260513108517\n",
      "Artificial Neural Network: Best Hyperparameters: {'solver': 'lbfgs', 'hidden_layer_sizes': (30,), 'activation': 'tanh'} Score: 0.9764695929778385\n"
     ]
    },
    {
     "name": "stderr",
     "output_type": "stream",
     "text": [
      "e:\\Anaconda\\lib\\site-packages\\sklearn\\neural_network\\_multilayer_perceptron.py:559: ConvergenceWarning: lbfgs failed to converge (status=1):\n",
      "STOP: TOTAL NO. of ITERATIONS REACHED LIMIT.\n",
      "\n",
      "Increase the number of iterations (max_iter) or scale the data as shown in:\n",
      "    https://scikit-learn.org/stable/modules/preprocessing.html\n",
      "  self.n_iter_ = _check_optimize_result(\"lbfgs\", opt_res, self.max_iter)\n"
     ]
    }
   ],
   "source": [
    "from sklearn.ensemble import RandomForestRegressor\n",
    "from sklearn.model_selection import RandomizedSearchCV\n",
    "from scipy.stats import randint\n",
    "\n",
    "# Create Regression models\n",
    "rf = RandomForestRegressor()\n",
    "gb = GradientBoostingRegressor()\n",
    "lr = LinearRegression()\n",
    "dt = DecisionTreeRegressor()\n",
    "ann = MLPRegressor()\n",
    "\n",
    "\n",
    "# Define the hyperparameters to be searched for each model\n",
    "rf_params = {'n_estimators': randint(1,1000), 'max_depth': randint(1,50)}\n",
    "gb_params = {'n_estimators': randint(1,1000), 'max_depth': randint(1,50), 'learning_rate': [0.01, 0.1, 1.0]}\n",
    "lr_params = {'fit_intercept': [True, False]}\n",
    "dt_params = {'max_depth': randint(1,50), 'min_samples_split': (1,25)}\n",
    "ann_params = {'hidden_layer_sizes': [(10,), (20,), (30,)], 'activation': ['logistic', 'tanh', 'relu'], 'solver': ['lbfgs', 'sgd', 'adam']}\n",
    "\n",
    "\n",
    "# Use RandomizedSearchCV to search for the best hyperparameters\n",
    "rf_random = RandomizedSearchCV(estimator = rf, param_distributions = rf_params, \n",
    "                               n_iter = 100, cv = 5, verbose=2, random_state=42, \n",
    "                               n_jobs = -1)\n",
    "\n",
    "# Fit the RandomizedSearchCV object to the data\n",
    "rf_random.fit(X_train, y_train)\n",
    "\n",
    "# Use RandomizedSearchCV to search for the best hyperparameters\n",
    "gb_random = RandomizedSearchCV(estimator = gb, param_distributions = gb_params, \n",
    "                               n_iter = 100, cv = 5, verbose=2, random_state=42, \n",
    "                               n_jobs = -1)\n",
    "\n",
    "# Fit the RandomizedSearchCV object to the data\n",
    "gb_random.fit(X_train, y_train)\n",
    "\n",
    "# Use RandomizedSearchCV to search for the best hyperparameters\n",
    "lr_random = RandomizedSearchCV(estimator = lr, param_distributions = lr_params, \n",
    "                               n_iter = 100, cv = 5, verbose=2, random_state=42, \n",
    "                               n_jobs = -1)\n",
    "\n",
    "# Fit the RandomizedSearchCV object to the data\n",
    "lr_random.fit(X_train, y_train)\n",
    "\n",
    "# Use RandomizedSearchCV to search for the best hyperparameters\n",
    "dt_random = RandomizedSearchCV(estimator = dt, param_distributions = dt_params, \n",
    "                               n_iter = 100, cv = 5, verbose=2, random_state=42, \n",
    "                               n_jobs = -1)\n",
    "\n",
    "# Fit the RandomizedSearchCV object to the data\n",
    "dt_random.fit(X_train, y_train)\n",
    "\n",
    "# Use RandomizedSearchCV to search for the best hyperparameters\n",
    "ann_random = RandomizedSearchCV(estimator = ann, param_distributions = ann_params, \n",
    "                               n_iter = 100, cv = 5, verbose=2, random_state=42, \n",
    "                               n_jobs = -1)\n",
    "\n",
    "# Fit the RandomizedSearchCV object to the data\n",
    "ann_random.fit(X_train, y_train)\n",
    "\n",
    "print(\"Random Forest: Best Hyperparameters:\", rf_random.best_params_, \"Score:\", rf_random.best_score_)\n",
    "print(\"Gradient Boosting: Best Hyperparameters:\", gb_random.best_params_, \"Score:\", gb_random.best_score_)\n",
    "print(\"Linear Regression: Best Hyperparameters:\", lr_random.best_params_, \"Score:\", lr_random.best_score_)\n",
    "print(\"Decision Tree: Best Hyperparameters:\", dt_random.best_params_, \"Score:\", dt_random.best_score_)\n",
    "print(\"Artificial Neural Network: Best Hyperparameters:\", ann_random.best_params_, \"Score:\", ann_random.best_score_)\n"
   ]
  },
  {
   "cell_type": "markdown",
   "id": "ace2131c",
   "metadata": {},
   "source": [
    "#### R-squared (R²) is a commonly used evaluation metric in regression analysis that measures the proportion of variance in the dependent variable (i.e., the target) that can be explained by the independent variables (i.e., the features) in the model. It takes on values between 0 and 1, where 1 indicates that the model explains all the variability in the target variable, and 0 indicates that the model explains none of the variability in the target variable."
   ]
  },
  {
   "cell_type": "markdown",
   "id": "70fc0367",
   "metadata": {},
   "source": [
    "# Hypothesis test"
   ]
  },
  {
   "cell_type": "markdown",
   "id": "01995531",
   "metadata": {},
   "source": [
    "##### Hypothesis: There is a significant relationship between the interest rate and HPI and the mortgage rate in the Canada.\n",
    "\n",
    "##### To test this hypothesis, we will use a multiple regression model with the interest rate and HPI as predictor variables and the mortgage rate as the response variable. We will fit the model using the OLS method from the statsmodels library and conduct a hypothesis test on the regression coefficients. \n",
    "\n",
    "##### If the hypothesis is supported by the data, we can use the regression model to predict the mortgage rate based on changes in the interest rate and HPI. This could be useful for lenders, investors, and policymakers to make informed decisions about mortgage lending and housing market trends."
   ]
  },
  {
   "cell_type": "code",
   "execution_count": 29,
   "id": "d7283fb2",
   "metadata": {},
   "outputs": [
    {
     "name": "stdout",
     "output_type": "stream",
     "text": [
      "Reject null hypothesis: there is a significant relationship between interest rate and mortgage rate.\n"
     ]
    }
   ],
   "source": [
    "import scipy.stats as stats\n",
    "\n",
    "# define the predictor variables (interest rate and HPI) and the response variable (mortgage rate)\n",
    "X = data[['Interest Rate', 'HPI_change']]\n",
    "y = data['Mortgage Rate']\n",
    "\n",
    "# fit a linear regression model\n",
    "slope, intercept, r_value, p_value, std_err = stats.linregress(X['Interest Rate'], y)\n",
    "\n",
    "# conduct a hypothesis test on the slope coefficient\n",
    "alpha = 0.05  # significance level\n",
    "t_value = slope / std_err\n",
    "p_value = stats.t.sf(abs(t_value), len(X) - 2) * 2  # two-sided p-value\n",
    "if p_value < alpha:\n",
    "    print(\"Reject null hypothesis: there is a significant relationship between interest rate and mortgage rate.\")\n",
    "else:\n",
    "    print(\"Fail to reject null hypothesis: there is no significant relationship between interest rate and mortgage rate.\")"
   ]
  },
  {
   "cell_type": "markdown",
   "id": "75b66bb4",
   "metadata": {},
   "source": [
    "#### we compare the p-value to the significance level and print the result of the hypothesis test. If the p-value is less than alpha, we reject the null hypothesis and conclude that there is a significant relationship between the interest rate and mortgage rate. Otherwise, we fail to reject the null hypothesis and conclude that there is no significant relationship between the variables."
   ]
  },
  {
   "cell_type": "code",
   "execution_count": 30,
   "id": "86a286e4",
   "metadata": {},
   "outputs": [
    {
     "name": "stdout",
     "output_type": "stream",
     "text": [
      "[6.8504     6.7577     6.49817548 4.2116     4.11653333]\n"
     ]
    },
    {
     "name": "stderr",
     "output_type": "stream",
     "text": [
      "e:\\Anaconda\\lib\\site-packages\\sklearn\\base.py:443: UserWarning: X has feature names, but RandomForestRegressor was fitted without feature names\n",
      "  warnings.warn(\n"
     ]
    }
   ],
   "source": [
    "#interest_rate = np.array([[4], [4.5], [4.51], [5], [6]])\n",
    "#predictions = rf_model.predict(interest_rate)\n",
    "\n",
    "new_data = {'interest_rate': [4.5, 4.0, 3.5, 2, 1.5],\n",
    "            'hpi_change': [0.2,0.2,1.2,2.2,2.5]}\n",
    "new_X = pd.DataFrame(new_data)\n",
    "predicted_y = rf_model.predict(new_X)\n",
    "print(predicted_y)"
   ]
  },
  {
   "cell_type": "markdown",
   "id": "00541854",
   "metadata": {},
   "source": [
    "#### An increase in the interest rate and a decrease in the HPI will result in an increase in mortgage rates."
   ]
  },
  {
   "cell_type": "code",
   "execution_count": 31,
   "id": "5890005d",
   "metadata": {},
   "outputs": [],
   "source": [
    "import pickle\n",
    "\n",
    "file = open('gb_model.pkl','wb')\n",
    "pickle.dump(gb_model, file)\n",
    "file.close()"
   ]
  }
 ],
 "metadata": {
  "kernelspec": {
   "display_name": "Python 3 (ipykernel)",
   "language": "python",
   "name": "python3"
  },
  "language_info": {
   "codemirror_mode": {
    "name": "ipython",
    "version": 3
   },
   "file_extension": ".py",
   "mimetype": "text/x-python",
   "name": "python",
   "nbconvert_exporter": "python",
   "pygments_lexer": "ipython3",
   "version": "3.9.7"
  }
 },
 "nbformat": 4,
 "nbformat_minor": 5
}
